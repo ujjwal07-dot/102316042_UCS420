{
  "cells": [
    {
      "cell_type": "markdown",
      "metadata": {
        "id": "tBOCFfcdI_LP"
      },
      "source": [
        "**Q 1.1** WAP to print your name three times."
      ]
    },
    {
      "cell_type": "code",
      "execution_count": 1,
      "metadata": {
        "colab": {
          "base_uri": "https://localhost:8080/"
        },
        "id": "mey-s6aBI9kk",
        "outputId": "0ff0f4e2-a916-42d2-e511-70812571a19a"
      },
      "outputs": [
        {
          "name": "stdout",
          "output_type": "stream",
          "text": [
            "Ujjwal Thapa\n",
            "Ujjwal Thapa\n",
            "Ujjwal Thapa\n",
            "\n"
          ]
        }
      ],
      "source": [
        "print(\"Ujjwal Thapa\\n\" * 3)"
      ]
    },
    {
      "cell_type": "markdown",
      "metadata": {
        "id": "YHPN_Z5GJPF7"
      },
      "source": [
        "**Q 2.1** WAP to add three numbers and to print the result."
      ]
    },
    {
      "cell_type": "code",
      "execution_count": null,
      "metadata": {
        "colab": {
          "base_uri": "https://localhost:8080/"
        },
        "id": "c0Wjtfj-JdW6",
        "outputId": "86f0eb3b-5551-49cc-c8e0-b6fe7974d80f"
      },
      "outputs": [
        {
          "name": "stdout",
          "output_type": "stream",
          "text": [
            "-2\n"
          ]
        }
      ],
      "source": [
        "a = 56\n",
        "b = -99\n",
        "c = 41\n",
        "total = a + b + c\n",
        "print(total)"
      ]
    },
    {
      "cell_type": "markdown",
      "metadata": {
        "id": "jhE5cL02Jnd6"
      },
      "source": [
        "**Q 2.2** WAP to concatenate three strings and to print the result."
      ]
    },
    {
      "cell_type": "code",
      "execution_count": null,
      "metadata": {
        "colab": {
          "base_uri": "https://localhost:8080/"
        },
        "id": "5_DOddOLJ7Xo",
        "outputId": "427b25ef-ef90-45f5-dc2a-cf67b5b660d4"
      },
      "outputs": [
        {
          "name": "stdout",
          "output_type": "stream",
          "text": [
            "string1 string_2string 3...END\n"
          ]
        }
      ],
      "source": [
        "a = \"string1\"\n",
        "b = \" string_2\"\n",
        "c = \"string 3...END\"\n",
        "conc = a + b + c\n",
        "print(conc)"
      ]
    },
    {
      "cell_type": "markdown",
      "metadata": {
        "id": "7fkcgB0eKQVd"
      },
      "source": [
        "**Q 3.1** WAP to input two strings from the user and to concatenate them."
      ]
    },
    {
      "cell_type": "code",
      "execution_count": null,
      "metadata": {
        "colab": {
          "base_uri": "https://localhost:8080/"
        },
        "id": "w4q8xzdiKlBP",
        "outputId": "31166fe8-f2e5-4aff-8484-417f82b3bdad"
      },
      "outputs": [
        {
          "name": "stdout",
          "output_type": "stream",
          "text": [
            "Enter the first string : Tokerov\n",
            "Enter the second string :  .. Juliet\n",
            "Tokerov .. Juliet\n"
          ]
        }
      ],
      "source": [
        "str1 = input(\"Enter the first string : \")\n",
        "str2 = input(\"Enter the second string : \")\n",
        "conc = str1 + str2\n",
        "print(conc)"
      ]
    },
    {
      "cell_type": "markdown",
      "metadata": {
        "id": "5MKe4di2K7Gb"
      },
      "source": [
        "**Q 3.2** WAP to input two numbers from the user and to add them."
      ]
    },
    {
      "cell_type": "code",
      "execution_count": null,
      "metadata": {
        "colab": {
          "base_uri": "https://localhost:8080/"
        },
        "id": "oftAbphWLOKJ",
        "outputId": "40f8d4b3-ae09-4a49-9947-d3a6a1084ed7"
      },
      "outputs": [
        {
          "name": "stdout",
          "output_type": "stream",
          "text": [
            "Enter the first number : -9\n",
            "Enter the second number : 65\n",
            "56\n"
          ]
        }
      ],
      "source": [
        "num1 = int(input(\"Enter the first number : \"))\n",
        "num2 = int(input(\"Enter the second number : \"))\n",
        "total = num1 + num2\n",
        "print(total)"
      ]
    },
    {
      "cell_type": "markdown",
      "metadata": {
        "id": "T6TghQ-8Lcli"
      },
      "source": [
        "**Q 4.1** WAP to print the multiplication tables of 7 and 9."
      ]
    },
    {
      "cell_type": "code",
      "execution_count": null,
      "metadata": {
        "colab": {
          "base_uri": "https://localhost:8080/"
        },
        "id": "moMd7E40LtPy",
        "outputId": "cfa5bb12-86b5-416d-c192-8be24d1990a7"
      },
      "outputs": [
        {
          "name": "stdout",
          "output_type": "stream",
          "text": [
            "7 x 1  =  7 \t9 x 1  =  9\n",
            "7 x 2  =  14 \t9 x 2  =  18\n",
            "7 x 3  =  21 \t9 x 3  =  27\n",
            "7 x 4  =  28 \t9 x 4  =  36\n",
            "7 x 5  =  35 \t9 x 5  =  45\n",
            "7 x 6  =  42 \t9 x 6  =  54\n",
            "7 x 7  =  49 \t9 x 7  =  63\n",
            "7 x 8  =  56 \t9 x 8  =  72\n",
            "7 x 9  =  63 \t9 x 9  =  81\n",
            "7 x 10  =  70 \t9 x 10  =  90\n"
          ]
        }
      ],
      "source": [
        "for i in range(1, 11) :\n",
        "  print(\"7 x\", i, \" = \", 7*i, \"\\t9 x\", i, \" = \", 9*i)"
      ]
    },
    {
      "cell_type": "markdown",
      "metadata": {
        "id": "YhZgTc2NMY37"
      },
      "source": [
        "**Q 4.2** WAP to display the multiplication table of a number *n*, inputted by the user."
      ]
    },
    {
      "cell_type": "code",
      "execution_count": null,
      "metadata": {
        "colab": {
          "base_uri": "https://localhost:8080/"
        },
        "id": "OR4vy_P0M5jz",
        "outputId": "3e7bc8ba-3ff8-4615-9492-5b4552efe2ca"
      },
      "outputs": [
        {
          "name": "stdout",
          "output_type": "stream",
          "text": [
            "Enter a number : 6\n",
            "6 x 1  =  6\n",
            "6 x 2  =  12\n",
            "6 x 3  =  18\n",
            "6 x 4  =  24\n",
            "6 x 5  =  30\n",
            "6 x 6  =  36\n",
            "6 x 7  =  42\n",
            "6 x 8  =  48\n",
            "6 x 9  =  54\n",
            "6 x 10  =  60\n"
          ]
        }
      ],
      "source": [
        "n = int(input(\"Enter a number : \"))\n",
        "for i in range (1, 11):\n",
        "  print(n, \"x\", i, \" = \", n*i)"
      ]
    },
    {
      "cell_type": "markdown",
      "metadata": {
        "id": "H07kGZ0RNLs1"
      },
      "source": [
        "**Q 4.3** WAP to add up all the numbers from 1 to *n*, inputted by the user."
      ]
    },
    {
      "cell_type": "code",
      "execution_count": null,
      "metadata": {
        "colab": {
          "base_uri": "https://localhost:8080/"
        },
        "id": "mkboWSrXNVP2",
        "outputId": "d307cd8c-2d0a-4046-bf72-0a0d81e29c9f"
      },
      "outputs": [
        {
          "name": "stdout",
          "output_type": "stream",
          "text": [
            "Enter a number : 17\n",
            "153\n"
          ]
        }
      ],
      "source": [
        "n = int(input(\"Enter a number : \"))\n",
        "total = 0\n",
        "for i in range (1, n+1) :\n",
        "  total += i\n",
        "print(total)"
      ]
    },
    {
      "cell_type": "markdown",
      "metadata": {
        "id": "J1Al48NtNvBH"
      },
      "source": [
        "**Q 5.1** WAP to find the greatest among three inputted numbers using the *max()* function and to display it."
      ]
    },
    {
      "cell_type": "code",
      "execution_count": null,
      "metadata": {
        "colab": {
          "base_uri": "https://localhost:8080/"
        },
        "id": "GYo2PrJSOMxH",
        "outputId": "73910a46-c246-4008-8e22-3cb342b58994"
      },
      "outputs": [
        {
          "name": "stdout",
          "output_type": "stream",
          "text": [
            "Enter number 1 : 5\n",
            "Enter number 2 : -7\n",
            "Enter number 3 : 19\n",
            "19\n"
          ]
        }
      ],
      "source": [
        "a = int(input(\"Enter number 1 : \"))\n",
        "b = int(input(\"Enter number 2 : \"))\n",
        "c = int(input(\"Enter number 3 : \"))\n",
        "greatest = max(a, b, c)\n",
        "print(greatest)"
      ]
    },
    {
      "cell_type": "markdown",
      "metadata": {
        "id": "2Akf6WDNOiDo"
      },
      "source": [
        "**Q 5.2** WAP to add all numbers divisible by 7 and 9 from 1 to *n*, given by the user."
      ]
    },
    {
      "cell_type": "code",
      "execution_count": 2,
      "metadata": {
        "colab": {
          "base_uri": "https://localhost:8080/"
        },
        "id": "Aloz-nXIPBHn",
        "outputId": "2a7c33d0-c545-47d8-c237-c6c628c72edf"
      },
      "outputs": [
        {
          "name": "stdout",
          "output_type": "stream",
          "text": [
            "Enter number upto which you want sum of numbers divisible by 7 and 9 : 80\n",
            "\n",
            "Sum of all number divisible by 7 and 9 between 1 and 80 : 63\n"
          ]
        }
      ],
      "source": [
        "divisible = int(input(\"Enter number upto which you want sum of numbers divisible by 7 and 9 : \"))\n",
        "sum2 = sum([i for i in range(divisible) if i % 7 == 0 and i % 9 == 0])\n",
        "print(f\"\\nSum of all number divisible by 7 and 9 between 1 and {divisible} : {sum2}\")"
      ]
    },
    {
      "cell_type": "markdown",
      "metadata": {
        "id": "Mx74GJETPObD"
      },
      "source": [
        "**Q 5.3** WAP to add all prime numbers from 1 to *n*, given by the user."
      ]
    },
    {
      "cell_type": "code",
      "execution_count": 3,
      "metadata": {
        "colab": {
          "base_uri": "https://localhost:8080/"
        },
        "id": "STktW5jhPXzW",
        "outputId": "9fb1114d-60b0-423c-f19d-4bc3ea9e8bc8"
      },
      "outputs": [
        {
          "name": "stdout",
          "output_type": "stream",
          "text": [
            "Enter a number to find prime numbers up to : 78\n",
            "\n",
            "Prime numbers up to 78 are [2, 3, 5, 7, 11, 13, 17, 19, 23, 29, 31, 37, 41, 43, 47, 53, 59, 61, 67, 71, 73]\n"
          ]
        }
      ],
      "source": [
        "def isPrime(num):\n",
        "    if num == 0 or num == 1:\n",
        "        return False\n",
        "    elif num == 2:\n",
        "        return True\n",
        "    for i in range(2, int(num**0.5) + 1):\n",
        "        if num % i == 0:\n",
        "            return False\n",
        "    return True\n",
        "\n",
        "prime = int(input(\"Enter a number to find prime numbers up to : \"))\n",
        "answer = [i for i in range(2, prime + 1) if isPrime(i)]\n",
        "print(f\"\\nPrime numbers up to {prime} are {answer}\")"
      ]
    },
    {
      "cell_type": "markdown",
      "metadata": {
        "id": "f6xMD0K0PjmQ"
      },
      "source": [
        "**Q 6.1** WAP using function that add all odd numbers from 1 to *n*, given by the user."
      ]
    },
    {
      "cell_type": "code",
      "execution_count": 4,
      "metadata": {
        "colab": {
          "base_uri": "https://localhost:8080/"
        },
        "id": "JTupYhsLPom0",
        "outputId": "b7c6172d-b411-4480-aa82-83f8321909d3"
      },
      "outputs": [
        {
          "name": "stdout",
          "output_type": "stream",
          "text": [
            "Enter number upto which you want sum of all odd numbers : 8\n",
            "\n",
            "Sum of all odd numbers between 1 and 8 : 16\n"
          ]
        }
      ],
      "source": [
        "n = int(input(\"Enter number upto which you want sum of all odd numbers : \"))\n",
        "sum_odd = sum([i for i in range(n) if i % 2 != 0])\n",
        "print(f\"\\nSum of all odd numbers between 1 and {n} : {sum_odd}\")"
      ]
    },
    {
      "cell_type": "markdown",
      "metadata": {
        "id": "tjI-JqgvPuoz"
      },
      "source": [
        "**Q 6.2** WAP using functions that adds up the all prime numbers from 1 to *n* given by the user."
      ]
    },
    {
      "cell_type": "code",
      "execution_count": 5,
      "metadata": {
        "colab": {
          "base_uri": "https://localhost:8080/"
        },
        "id": "XrellotKP59Z",
        "outputId": "47342b4f-5741-4f4d-cb4e-2a155a670ce7"
      },
      "outputs": [
        {
          "name": "stdout",
          "output_type": "stream",
          "text": [
            "Enter a number to find the sum of prime numbers upto : 89\n",
            "\n",
            "Sum of prime numbers upto 89 are 712\n"
          ]
        }
      ],
      "source": [
        "primesum = int(input(\"Enter a number to find the sum of prime numbers upto : \"))\n",
        "answersum = sum([i for i in range(prime) if isPrime(i)])\n",
        "print(f\"\\nSum of prime numbers upto {primesum} is {answersum}\")"
      ]
    }
  ],
  "metadata": {
    "colab": {
      "provenance": []
    },
    "kernelspec": {
      "display_name": "Python 3",
      "name": "python3"
    },
    "language_info": {
      "codemirror_mode": {
        "name": "ipython",
        "version": 3
      },
      "file_extension": ".py",
      "mimetype": "text/x-python",
      "name": "python",
      "nbconvert_exporter": "python",
      "pygments_lexer": "ipython3",
      "version": "3.12.4"
    }
  },
  "nbformat": 4,
  "nbformat_minor": 0
}
