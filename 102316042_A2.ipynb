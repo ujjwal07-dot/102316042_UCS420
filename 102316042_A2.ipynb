{
 "cells": [
  {
   "cell_type": "markdown",
   "metadata": {},
   "source": [
    "# Assignment 2 "
   ]
  },
  {
   "cell_type": "markdown",
   "metadata": {},
   "source": [
    "Ques 1)\\\n",
    "Create a List L that is defined as= [10, 20, 30, 40, 50, 60, 70, 80]. \\\n",
    "i. WAP to add 200 and 300 to L.   \n",
    "ii.  WAP to remove 10 and 30 from L. \n",
    "iii. WAP to sort L in ascending order.  \n",
    "iv.  WAP to sort L in descending order. "
   ]
  },
  {
   "cell_type": "code",
   "execution_count": 7,
   "metadata": {},
   "outputs": [
    {
     "name": "stdout",
     "output_type": "stream",
     "text": [
      "After adding 200 and 300: [10, 20, 30, 40, 50, 60, 70, 80, 200, 300]\n",
      "After removing 10 and 30: [20, 40, 50, 60, 70, 80, 200, 300]\n",
      "Sorted in ascending order: [20, 40, 50, 60, 70, 80, 200, 300]\n",
      "Sorted in descending order: [300, 200, 80, 70, 60, 50, 40, 20]\n"
     ]
    }
   ],
   "source": [
    "# i\n",
    "L = [10, 20, 30, 40, 50, 60, 70, 80]\n",
    "L.append(200)\n",
    "L.append(300)\n",
    "print(\"After adding 200 and 300:\", L)\n",
    "\n",
    "# ii\n",
    "L.remove(10)\n",
    "L.remove(30)\n",
    "print(\"After removing 10 and 30:\", L)\n",
    "\n",
    "# iii\n",
    "L.sort()\n",
    "print(\"Sorted in ascending order:\", L)\n",
    "\n",
    "# iv\n",
    "L.sort(reverse=True)\n",
    "print(\"Sorted in descending order:\", L)"
   ]
  },
  {
   "cell_type": "markdown",
   "metadata": {},
   "source": [
    "Ques 2)\\\n",
    "Create a tuple of marks scored as scores = (45, 89.5, 76, 45.4, 89, 92, 58, 45) and  perform the following operations using tuple functions:  \n",
    "-   Identify the highest score and its index in the tuple \n",
    "-   Find the lowest score and count how many times it appears.  \n",
    "-   Reverse the tuple and return it as a list.\n",
    "-  Check if a specific score ‘76’ (input by the user) is present in the tuple and \n",
    "print its first occurrence index, or a message saying it’s not present.  "
   ]
  },
  {
   "cell_type": "code",
   "execution_count": 9,
   "metadata": {},
   "outputs": [
    {
     "name": "stdout",
     "output_type": "stream",
     "text": [
      "Highest score in the tuple is at 92 at index 5\n",
      "The lowest score in the tuple is 45 and it occurs 2 time(s)\n",
      "Scores tuple reversed : [45, 58, 92, 89, 45.4, 76, 89.5, 45]\n",
      "76 exists in the Scores tuple.\n"
     ]
    }
   ],
   "source": [
    "scores = (45, 89.5, 76, 45.4, 89, 92, 58, 45)\n",
    "\n",
    "print(f\"Highest score in the tuple is at {max(scores)} at index {scores.index(max(scores))}\")\n",
    "\n",
    "print(f\"The lowest score in the tuple is {min(scores)} and it occurs {scores.count(min(scores))} time(s)\")\n",
    "\n",
    "reverse_scores = [i for i in reversed(scores)]\n",
    "print(f\"Scores tuple reversed : {reverse_scores}\")\n",
    "\n",
    "n = int(input(\"Enter the score you want to check if it exists or not: \"))\n",
    "if(n in reverse_scores):\n",
    "    print(f\"{n} exists in the Scores tuple.\")\n",
    "else:\n",
    "    print(f\"{n} does not exist in the scores tuple.\")"
   ]
  },
  {
   "cell_type": "markdown",
   "metadata": {},
   "source": [
    "Ques 3)\\\n",
    "WAP to create a list of 100 random numbers between 100 and 900. Count and print the: \\\n",
    "(i) All odd numbers \\\n",
    "(ii) All even numbers \\\n",
    "(iii) All prime numbers"
   ]
  },
  {
   "cell_type": "code",
   "execution_count": 6,
   "metadata": {},
   "outputs": [
    {
     "name": "stdout",
     "output_type": "stream",
     "text": [
      "List of 100 numbers generated randomly within the range 100 and 900: [450, 588, 147, 646, 107, 572, 146, 524, 569, 594, 164, 755, 283, 625, 661, 585, 643, 676, 734, 865, 439, 500, 164, 214, 556, 183, 856, 811, 300, 207, 775, 849, 455, 857, 664, 545, 889, 451, 122, 887, 727, 599, 499, 734, 541, 302, 889, 437, 703, 892, 361, 137, 318, 269, 422, 343, 412, 388, 392, 162, 468, 230, 179, 165, 843, 830, 167, 681, 766, 734, 448, 899, 880, 530, 624, 803, 196, 128, 870, 672, 190, 695, 131, 114, 540, 657, 546, 431, 564, 526, 174, 619, 173, 839, 585, 649, 567, 330, 629, 369]\n",
      "Even numbers in the list: [450, 588, 646, 572, 146, 524, 594, 164, 676, 734, 500, 164, 214, 556, 856, 300, 664, 122, 734, 302, 892, 318, 422, 412, 388, 392, 162, 468, 230, 830, 766, 734, 448, 880, 530, 624, 196, 128, 870, 672, 190, 114, 540, 546, 564, 526, 174, 330]\n",
      "Odd numbers in the list: [147, 107, 569, 755, 283, 625, 661, 585, 643, 865, 439, 183, 811, 207, 775, 849, 455, 857, 545, 889, 451, 887, 727, 599, 499, 541, 889, 437, 703, 361, 137, 269, 343, 179, 165, 843, 167, 681, 899, 803, 695, 131, 657, 431, 619, 173, 839, 585, 649, 567, 629, 369]\n",
      "Prime numbers in the list: [107, 569, 283, 661, 643, 439, 811, 857, 887, 727, 599, 499, 541, 137, 269, 179, 167, 131, 431, 619, 173, 839]\n"
     ]
    }
   ],
   "source": [
    "import random\n",
    "\n",
    "def isPrime(x):\n",
    "    if x < 2:\n",
    "        return False\n",
    "    for i in range(2, int(x**0.5) + 1):\n",
    "        if x % i == 0:\n",
    "            return False\n",
    "    return True\n",
    "\n",
    "numbers = []\n",
    "for i in range(100):\n",
    "    numbers.append(random.randint(100, 900))\n",
    "\n",
    "even_numbers = [number for number in numbers if number % 2 == 0]\n",
    "odd_numbers = [number for number in numbers if number % 2 != 0]\n",
    "prime_numbers = [number for number in numbers if isPrime(number)]\n",
    "\n",
    "print(f\"List of 100 numbers generated randomly within the range 100 and 900: {numbers}\")\n",
    "print(f\"Even numbers in the list: {even_numbers}\")\n",
    "print(f\"Odd numbers in the list: {odd_numbers}\")\n",
    "print(f\"Prime numbers in the list: {prime_numbers}\")"
   ]
  },
  {
   "cell_type": "markdown",
   "metadata": {},
   "source": [
    "**Ques 4 Consider the following two sets, A and B, representing scores of two teams in multiple matches.**\n",
    "\n",
    "A = {34, 56, 78, 90} and B = {78, 45, 90, 23}\n",
    "\n",
    "**WAP to perform the following operations using set functions:**\n",
    "\n",
    "i.  **Find the unique scores achieved by both teams (union of sets).**\n",
    "\n",
    "ii. **Identify the scores that are common to both teams (intersection of sets).**\n",
    "\n",
    "iii. **Find the scores that are exclusive to each team (symmetric difference).**\n",
    "\n",
    "iv. **Check if the scores of team A are a subset of team B, and if team B's scores are a superset of team A.**\n",
    "\n",
    "v.  **Remove a specific score X (input by the user) from set A if it exists. If not, print a message saying it is not present.**"
   ]
  },
  {
   "cell_type": "code",
   "execution_count": null,
   "metadata": {},
   "outputs": [],
   "source": [
    "A = {34, 56, 78, 90}\n",
    "B = {78, 45, 90, 23}\n",
    "\n",
    "print(f\"Unique Scores by both teams: {A.union(B)}\")\n",
    "print(f\"Intersect of scores: {A.intersection(B)}\")\n",
    "print(f\"Scores Exclusive to each team: {A.symmetric_difference(B)}\")\n",
    "print(f\"\\nIs team A's scores a subset of team B's scores? {A.issubset(B)}\")\n",
    "print(f\"Is team B's scores a superset of team A's scores? {B.issuperset(A)}\")\n",
    "\n",
    "X = int(input(\"Enter a score to remove from set A: \"))\n",
    "if X in A:\n",
    "    A.remove(X)\n",
    "    print(f\"Score {X} removed from set A. Updated set A:\", A)\n",
    "else:\n",
    "    print(f\"Score {X} is not present in set A.\")\n"
   ]
  },
  {
   "cell_type": "markdown",
   "metadata": {},
   "source": [
    "Write a program to rename a key city to a loca on in the following dictionary."
   ]
  },
  {
   "cell_type": "code",
   "execution_count": 11,
   "metadata": {},
   "outputs": [
    {
     "data": {
      "text/plain": [
       "{'name': 'Kelly', 'age': 25, 'salary': 8000, 'location': 'New York'}"
      ]
     },
     "execution_count": 11,
     "metadata": {},
     "output_type": "execute_result"
    }
   ],
   "source": [
    "sample_dict = {\n",
    "    \"name\": \"Kelly\",\n",
    "    \"age\":  25,\n",
    "    \"salary\" : 8000,\n",
    "    \"city\": \"New York\"\n",
    "}\n",
    "\n",
    "sample_dict.pop(\"city\")\n",
    "sample_dict.update({\"location\" : \"New York\"})\n",
    "sample_dict"
   ]
  }
 ],
 "metadata": {
  "kernelspec": {
   "display_name": "Python 3",
   "language": "python",
   "name": "python3"
  },
  "language_info": {
   "codemirror_mode": {
    "name": "ipython",
    "version": 3
   },
   "file_extension": ".py",
   "mimetype": "text/x-python",
   "name": "python",
   "nbconvert_exporter": "python",
   "pygments_lexer": "ipython3",
   "version": "3.12.5"
  }
 },
 "nbformat": 4,
 "nbformat_minor": 2
}
