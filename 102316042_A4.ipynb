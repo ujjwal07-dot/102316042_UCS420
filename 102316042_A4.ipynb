{
 "cells": [
  {
   "cell_type": "markdown",
   "metadata": {},
   "source": [
    "# Assignment 4"
   ]
  },
  {
   "cell_type": "markdown",
   "metadata": {},
   "source": [
    "Ques 1)Write a program to create a NumPy 1D-array with 5 elements and perform basic\n",
    "operations like:\n",
    "1. Addition of 2 in all the element\n",
    "2. Multiply 3 with all the elements\n",
    "3. Divide every element by 2"
   ]
  },
  {
   "cell_type": "code",
   "execution_count": 1,
   "metadata": {},
   "outputs": [
    {
     "name": "stdout",
     "output_type": "stream",
     "text": [
      "1. 5\n",
      "2. [ 3  6  9 12 15]\n",
      "3. [0.5 1.  1.5 2.  2.5]\n"
     ]
    }
   ],
   "source": [
    "import numpy as np\n",
    "\n",
    "a = [1,2,3,4,5]\n",
    "arr = np.array(a)\n",
    "\n",
    "print(f\"1. {arr[1] + arr[2]}\")\n",
    "print(f\"2. {arr * 3}\")\n",
    "print(f\"3. {arr / 2}\")\n"
   ]
  },
  {
   "cell_type": "markdown",
   "metadata": {},
   "source": [
    "Ques 2)Questions on Basic NumPy Array: <br>\n",
    "a. Reverse the NumPy array: arr = np.array([1, 2, 3, 6, 4, 5]) <br>\n",
    "b. Find the most frequent value and their indice(s) in the following arrays: <br>\n",
    "    i. x = np.array([1,2,3,4,5,1,2,1,1,1])  <br>\n",
    "    ii. y = np.array([1, 1, 1, 2, 3, 4, 2, 4, 3, 3, ])"
   ]
  },
  {
   "cell_type": "code",
   "execution_count": 2,
   "metadata": {},
   "outputs": [
    {
     "name": "stdout",
     "output_type": "stream",
     "text": [
      "Reversed array: [5 4 3 2 1]\n",
      "Most frequent element in x: 1, with a frequency of: 5\n",
      "Most frequent element in x: 1, with a frequency of: 3\n"
     ]
    }
   ],
   "source": [
    "arr = np.array([1,2,3,4,5])\n",
    "print(f\"Reversed array: {np.flip(arr)}\")\n",
    "\n",
    "x = np.array([1,2,3,4,5,1,2,1,1,1])\n",
    "unq_x, counts_x = np.unique(x, return_counts=True)\n",
    "max_counts_x = np.argmax(counts_x)\n",
    "max_element_x = unq_x[max_counts_x]\n",
    "print(f\"Most frequent element in x: {max_element_x}, with a frequency of: {counts_x[max_counts_x]}\")\n",
    "\n",
    "y = np.array([1, 1, 1, 2, 3, 4, 2, 4, 3, 3, ])\n",
    "unq_y, counts_y = np.unique(y, return_counts=True)\n",
    "max_counts_y = np.argmax(counts_y)\n",
    "max_element_y = unq_y[max_counts_y]\n",
    "print(f\"Most frequent element in x: {max_element_y}, with a frequency of: {counts_y[max_counts_y]}\")"
   ]
  },
  {
   "cell_type": "markdown",
   "metadata": {},
   "source": [
    "Ques 3) For the given 2-D array arr=np.array([10, 20, 30], [40, 50, 60], [70, 80, 90]), access\n",
    "elements using row and column indices as follows:\n",
    "1. Access 1st row, 2nd column\n",
    "2. Access 3rd row, 1st column"
   ]
  },
  {
   "cell_type": "code",
   "execution_count": 3,
   "metadata": {},
   "outputs": [
    {
     "name": "stdout",
     "output_type": "stream",
     "text": [
      "1. 20\n",
      "2. 70\n"
     ]
    }
   ],
   "source": [
    "arr2d = np.array([[10, 20, 30], [40, 50, 60], [70, 80, 90]])\n",
    "\n",
    "print(f\"1. {arr2d[0][1]}\")\n",
    "print(f\"2. {arr2d[2][0]}\")\n"
   ]
  },
  {
   "cell_type": "markdown",
   "metadata": {},
   "source": [
    "Ques 4) Write program to create an 1-D NumPy array named _Your Name_ with evenly\n",
    "spaced 25 numbers from 10 to 100 using linspace(). \n",
    "- Print the dimensions of the array, shape, total elements, the data type of each element and total number of bytes consumed\n",
    "by the array. \n",
    "- Find the transpose of this array using reshape() attribute. Can we do the same\n",
    "with T attribute?"
   ]
  },
  {
   "cell_type": "code",
   "execution_count": 5,
   "metadata": {},
   "outputs": [
    {
     "name": "stdout",
     "output_type": "stream",
     "text": [
      "i.\n",
      "Dimensions: 1\n",
      "Shape: (25,)\n",
      "Number of elements: 25\n",
      "Datatype: float64\n",
      "Number of Bytes occupied: 200\n",
      "ii. Transpose using reshape:\n",
      "[[ 10.    13.75  17.5   21.25  25.  ]\n",
      " [ 28.75  32.5   36.25  40.    43.75]\n",
      " [ 47.5   51.25  55.    58.75  62.5 ]\n",
      " [ 66.25  70.    73.75  77.5   81.25]\n",
      " [ 85.    88.75  92.5   96.25 100.  ]]\n",
      "Transpose using T attribute:\n",
      "[[ 10.    28.75  47.5   66.25  85.  ]\n",
      " [ 13.75  32.5   51.25  70.    88.75]\n",
      " [ 17.5   36.25  55.    73.75  92.5 ]\n",
      " [ 21.25  40.    58.75  77.5   96.25]\n",
      " [ 25.    43.75  62.5   81.25 100.  ]]\n"
     ]
    }
   ],
   "source": [
    "ishtpreet = np.array(np.linspace(10, 100, 25))\n",
    "\n",
    "print(f\"i.\\nDimensions: {ishtpreet.ndim}\")\n",
    "print(f\"Shape: {ishtpreet.shape}\")\n",
    "print(f\"Number of elements: {ishtpreet.size}\")\n",
    "print(f\"Datatype: {ishtpreet.dtype}\")\n",
    "print(f\"Number of Bytes occupied: {ishtpreet.nbytes}\")\n",
    "\n",
    "ishtpreet_reshaped = ishtpreet.reshape(5, 5)\n",
    "print(f\"ii. Transpose using reshape:\\n{ishtpreet_reshaped}\")\n",
    "\n",
    "ishtpreet_T = ishtpreet_reshaped.T\n",
    "print(f\"Transpose using T attribute:\\n{ishtpreet_T}\")"
   ]
  },
  {
   "cell_type": "markdown",
   "metadata": {},
   "source": [
    "Ques 5) Create a 2-D Array of three rows and four columns, named _ucs420<< yourname >>_ with following values – 10, 20, 30, 40, 50, 60, 70, 80, 90, 15, 20, 35. <br>Compute the mean,\n",
    "median, max, min, unique elements. Reshape the array to four rows and three columns and\n",
    "name it as reshaped _ucs420<< your_name >>_. Resize the array to two rows and three\n",
    "columns and name it as resized _ucs420<< your_name >>_."
   ]
  },
  {
   "cell_type": "code",
   "execution_count": 25,
   "metadata": {},
   "outputs": [
    {
     "name": "stdout",
     "output_type": "stream",
     "text": [
      "Mean: 43.333\n",
      "Median: 37.5\n",
      "Max: 90\n",
      "Min: 10\n",
      "Unique elements: [10 15 20 30 35 40 50 60 70 80 90]\n",
      "Reshaped array with 4 rows and 3 columns :\n",
      "[[10 20 30]\n",
      " [40 50 60]\n",
      " [70 80 90]\n",
      " [15 20 35]]\n",
      "Resized array with 2 rows and 3 columns :\n",
      "[[10 20 30]\n",
      " [40 50 60]]\n"
     ]
    }
   ],
   "source": [
    "ucs420_ishtpreet = np.array([10, 20, 30, 40, 50, 60, 70, 80, 90, 15, 20, 35])\n",
    "print(f\"Mean: {ucs420_ishtpreet.mean():.3f}\")\n",
    "print(f\"Median: {np.median(ucs420_ishtpreet)}\")\n",
    "print(f\"Max: {ucs420_ishtpreet.max()}\")\n",
    "print(f\"Min: {ucs420_ishtpreet.min()}\")\n",
    "\n",
    "unique = np.unique(ucs420_ishtpreet)\n",
    "print(f\"Unique elements: {np.unique(ucs420_ishtpreet)}\")\n",
    "\n",
    "reshaped_ucs420_ishtpreet = np.reshape(ucs420_ishtpreet, [4,3])\n",
    "print(f\"Reshaped array with 4 rows and 3 columns :\\n{reshaped_ucs420_ishtpreet}\")\n",
    "\n",
    "resized_ucs420_102316043 = np.resize(ucs420_ishtpreet, [2,3])\n",
    "print(f\"Resized array with 2 rows and 3 columns :\\n{resized_ucs420_102316043}\")\n",
    "\n"
   ]
  }
 ],
 "metadata": {
  "kernelspec": {
   "display_name": "Python 3",
   "language": "python",
   "name": "python3"
  },
  "language_info": {
   "codemirror_mode": {
    "name": "ipython",
    "version": 3
   },
   "file_extension": ".py",
   "mimetype": "text/x-python",
   "name": "python",
   "nbconvert_exporter": "python",
   "pygments_lexer": "ipython3",
   "version": "3.12.5"
  }
 },
 "nbformat": 4,
 "nbformat_minor": 2
}
