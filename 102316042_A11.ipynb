{
 "cells": [
  {
   "cell_type": "markdown",
   "id": "e45a3157",
   "metadata": {
    "vscode": {
     "languageId": "latex"
    }
   },
   "source": [
    "Q. Design a Cognitive Assistant for Reading Labels of medicine bottle (You can download\n",
    "Dataset from Internet)"
   ]
  },
  {
   "cell_type": "markdown",
   "id": "0c201a85",
   "metadata": {},
   "source": [
    "![Alt Text](one.png)"
   ]
  },
  {
   "cell_type": "markdown",
   "id": "6a5b5256",
   "metadata": {},
   "source": [
    "![Alt Text](two.png)"
   ]
  },
  {
   "cell_type": "markdown",
   "id": "8beb0f1e",
   "metadata": {},
   "source": [
    "Q. Design an Emotion-aware Cognitive Assistant using Facial Expression Detection"
   ]
  },
  {
   "cell_type": "markdown",
   "id": "dd74f3fe",
   "metadata": {},
   "source": [
    "![Alt Text](three.png)"
   ]
  },
  {
   "cell_type": "markdown",
   "id": "5066a922",
   "metadata": {},
   "source": [
    "![Alt Text](four.png)"
   ]
  },
  {
   "cell_type": "markdown",
   "id": "014a58a1",
   "metadata": {},
   "source": []
  }
 ],
 "metadata": {
  "language_info": {
   "name": "python"
  }
 },
 "nbformat": 4,
 "nbformat_minor": 5
}
